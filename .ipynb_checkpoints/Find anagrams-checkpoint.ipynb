{
 "cells": [
  {
   "cell_type": "markdown",
   "id": "d9825914",
   "metadata": {},
   "source": [
    "Finding anagrams for words, based on the words in a file word.txt"
   ]
  },
  {
   "cell_type": "code",
   "execution_count": 1,
   "id": "f3aadcf0",
   "metadata": {},
   "outputs": [],
   "source": [
    "with open('words.txt','r') as fp:\n",
    "        info = fp.read().splitlines()"
   ]
  },
  {
   "cell_type": "markdown",
   "id": "6389cf72",
   "metadata": {},
   "source": [
    "###### info[]"
   ]
  },
  {
   "cell_type": "code",
   "execution_count": 2,
   "id": "08405d1c",
   "metadata": {},
   "outputs": [
    {
     "data": {
      "text/plain": [
       "['A', 'a', 'aa', 'aal', 'aalii', 'aam', 'Aani']"
      ]
     },
     "execution_count": 2,
     "metadata": {},
     "output_type": "execute_result"
    }
   ],
   "source": [
    "info[:7]"
   ]
  },
  {
   "cell_type": "code",
   "execution_count": null,
   "id": "3cfa2973",
   "metadata": {},
   "outputs": [],
   "source": []
  }
 ],
 "metadata": {
  "kernelspec": {
   "display_name": "Python 3 (ipykernel)",
   "language": "python",
   "name": "python3"
  },
  "language_info": {
   "codemirror_mode": {
    "name": "ipython",
    "version": 3
   },
   "file_extension": ".py",
   "mimetype": "text/x-python",
   "name": "python",
   "nbconvert_exporter": "python",
   "pygments_lexer": "ipython3",
   "version": "3.10.9"
  }
 },
 "nbformat": 4,
 "nbformat_minor": 5
}
