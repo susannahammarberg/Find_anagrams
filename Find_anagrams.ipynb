{
 "cells": [
  {
   "cell_type": "markdown",
   "id": "d9825914",
   "metadata": {},
   "source": [
    "Finding anagrams for words, based on the words in a file word.txt"
   ]
  },
  {
   "cell_type": "code",
   "execution_count": 6,
   "id": "f3aadcf0",
   "metadata": {},
   "outputs": [],
   "source": [
    "with open('words.txt','r') as fp:\n",
    "        info = fp.read().splitlines()"
   ]
  },
  {
   "cell_type": "markdown",
   "id": "6389cf72",
   "metadata": {},
   "source": [
    "###### info[]"
   ]
  },
  {
   "cell_type": "code",
   "execution_count": 2,
   "id": "08405d1c",
   "metadata": {},
   "outputs": [
    {
     "data": {
      "text/plain": [
       "['A', 'a', 'aa', 'aal', 'aalii', 'aam', 'Aani']"
      ]
     },
     "execution_count": 2,
     "metadata": {},
     "output_type": "execute_result"
    }
   ],
   "source": [
    "info[:7]"
   ]
  },
  {
   "cell_type": "code",
   "execution_count": 4,
   "id": "3cfa2973",
   "metadata": {},
   "outputs": [
    {
     "data": {
      "text/plain": [
       "'Aani'"
      ]
     },
     "execution_count": 4,
     "metadata": {},
     "output_type": "execute_result"
    }
   ],
   "source": [
    "info[6]"
   ]
  },
  {
   "cell_type": "code",
   "execution_count": 5,
   "id": "27931213",
   "metadata": {},
   "outputs": [
    {
     "data": {
      "text/plain": [
       "'aani'"
      ]
     },
     "execution_count": 5,
     "metadata": {},
     "output_type": "execute_result"
    }
   ],
   "source": [
    "info[6].lower()"
   ]
  },
  {
   "cell_type": "markdown",
   "id": "0217a645",
   "metadata": {},
   "source": [
    "to get rid of doublets from capital and non capital words, we can use a set instead of a list"
   ]
  },
  {
   "cell_type": "code",
   "execution_count": 17,
   "id": "4eb0d6ec",
   "metadata": {},
   "outputs": [],
   "source": [
    "words = [word.lower() for word in info]"
   ]
  },
  {
   "cell_type": "code",
   "execution_count": 18,
   "id": "0ea4178e",
   "metadata": {},
   "outputs": [
    {
     "data": {
      "text/plain": [
       "235886"
      ]
     },
     "execution_count": 18,
     "metadata": {},
     "output_type": "execute_result"
    }
   ],
   "source": [
    "len(words)"
   ]
  },
  {
   "cell_type": "code",
   "execution_count": 20,
   "id": "aaa67bb2",
   "metadata": {},
   "outputs": [],
   "source": [
    "words = sorted({ word.lower() for word in info})"
   ]
  },
  {
   "cell_type": "code",
   "execution_count": 13,
   "id": "ee6133a9",
   "metadata": {},
   "outputs": [
    {
     "data": {
      "text/plain": [
       "234371"
      ]
     },
     "execution_count": 13,
     "metadata": {},
     "output_type": "execute_result"
    }
   ],
   "source": [
    "len(words)"
   ]
  },
  {
   "cell_type": "code",
   "execution_count": 16,
   "id": "32f9f64c",
   "metadata": {},
   "outputs": [
    {
     "ename": "SyntaxError",
     "evalue": "invalid syntax (3191905229.py, line 1)",
     "output_type": "error",
     "traceback": [
      "\u001b[1;36m  Cell \u001b[1;32mIn[16], line 1\u001b[1;36m\u001b[0m\n\u001b[1;33m    words{:16}\u001b[0m\n\u001b[1;37m         ^\u001b[0m\n\u001b[1;31mSyntaxError\u001b[0m\u001b[1;31m:\u001b[0m invalid syntax\n"
     ]
    }
   ],
   "source": [
    "words{:16}"
   ]
  },
  {
   "cell_type": "markdown",
   "id": "4ae65c61",
   "metadata": {},
   "source": [
    "find anagrams by comparing the sorted word to all words in the dictionary (that is now a set), sorted "
   ]
  },
  {
   "cell_type": "code",
   "execution_count": null,
   "id": "7f572276",
   "metadata": {},
   "outputs": [],
   "source": []
  }
 ],
 "metadata": {
  "kernelspec": {
   "display_name": "Python 3 (ipykernel)",
   "language": "python",
   "name": "python3"
  },
  "language_info": {
   "codemirror_mode": {
    "name": "ipython",
    "version": 3
   },
   "file_extension": ".py",
   "mimetype": "text/x-python",
   "name": "python",
   "nbconvert_exporter": "python",
   "pygments_lexer": "ipython3",
   "version": "3.10.9"
  }
 },
 "nbformat": 4,
 "nbformat_minor": 5
}
